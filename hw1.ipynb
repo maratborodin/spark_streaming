{
  "nbformat": 4,
  "nbformat_minor": 0,
  "metadata": {
    "colab": {
      "name": "Untitled0.ipynb",
      "provenance": [],
      "authorship_tag": "ABX9TyN1XiQyie9qK36126aepqDP",
      "include_colab_link": true
    },
    "kernelspec": {
      "name": "python3",
      "display_name": "Python 3"
    },
    "language_info": {
      "name": "python"
    }
  },
  "cells": [
    {
      "cell_type": "markdown",
      "metadata": {
        "id": "view-in-github",
        "colab_type": "text"
      },
      "source": [
        "<a href=\"https://colab.research.google.com/github/maratborodin/spark_streaming/blob/main/hw1.ipynb\" target=\"_parent\"><img src=\"https://colab.research.google.com/assets/colab-badge.svg\" alt=\"Open In Colab\"/></a>"
      ]
    },
    {
      "cell_type": "code",
      "execution_count": 1,
      "metadata": {
        "colab": {
          "base_uri": "https://localhost:8080/"
        },
        "id": "FD_B3Nq9bold",
        "outputId": "60d5b5ec-4683-46aa-e0e5-bcd4fe73ce2f"
      },
      "outputs": [
        {
          "output_type": "stream",
          "name": "stdout",
          "text": [
            "Looking in indexes: https://pypi.org/simple, https://us-python.pkg.dev/colab-wheels/public/simple/\n",
            "Collecting pyspark[sql]\n",
            "  Downloading pyspark-3.3.0.tar.gz (281.3 MB)\n",
            "\u001b[K     |████████████████████████████████| 281.3 MB 42 kB/s \n",
            "\u001b[?25hCollecting findspark\n",
            "  Downloading findspark-2.0.1-py2.py3-none-any.whl (4.4 kB)\n",
            "Collecting py4j==0.10.9.5\n",
            "  Downloading py4j-0.10.9.5-py2.py3-none-any.whl (199 kB)\n",
            "\u001b[K     |████████████████████████████████| 199 kB 59.7 MB/s \n",
            "\u001b[?25hRequirement already satisfied: pandas>=1.0.5 in /usr/local/lib/python3.7/dist-packages (from pyspark[sql]) (1.3.5)\n",
            "Requirement already satisfied: pyarrow>=1.0.0 in /usr/local/lib/python3.7/dist-packages (from pyspark[sql]) (6.0.1)\n",
            "Requirement already satisfied: numpy>=1.17.3 in /usr/local/lib/python3.7/dist-packages (from pandas>=1.0.5->pyspark[sql]) (1.21.6)\n",
            "Requirement already satisfied: pytz>=2017.3 in /usr/local/lib/python3.7/dist-packages (from pandas>=1.0.5->pyspark[sql]) (2022.1)\n",
            "Requirement already satisfied: python-dateutil>=2.7.3 in /usr/local/lib/python3.7/dist-packages (from pandas>=1.0.5->pyspark[sql]) (2.8.2)\n",
            "Requirement already satisfied: six>=1.5 in /usr/local/lib/python3.7/dist-packages (from python-dateutil>=2.7.3->pandas>=1.0.5->pyspark[sql]) (1.15.0)\n",
            "Building wheels for collected packages: pyspark\n",
            "  Building wheel for pyspark (setup.py) ... \u001b[?25l\u001b[?25hdone\n",
            "  Created wheel for pyspark: filename=pyspark-3.3.0-py2.py3-none-any.whl size=281764026 sha256=8e270199ad44bb0231d9e0b0ff3d926d06c6703f164ef1c926040a08a6515282\n",
            "  Stored in directory: /root/.cache/pip/wheels/7a/8e/1b/f73a52650d2e5f337708d9f6a1750d451a7349a867f928b885\n",
            "Successfully built pyspark\n",
            "Installing collected packages: py4j, pyspark, findspark\n",
            "Successfully installed findspark-2.0.1 py4j-0.10.9.5 pyspark-3.3.0\n"
          ]
        }
      ],
      "source": [
        "!pip install pyspark[sql] findspark --user"
      ]
    },
    {
      "cell_type": "code",
      "source": [
        "# !pip install pyspark[sql] findspark --user\n",
        "\n",
        "import sys\n",
        "\n",
        "import findspark\n",
        "findspark.init()\n",
        "findspark.find()\n",
        "\n",
        "from pyspark import SparkConf, SparkContext\n",
        "from pyspark.sql import SparkSession\n",
        "from pyspark.sql.types import *\n",
        "from pyspark.sql.functions import *\n",
        "\n",
        "\n",
        "spark = SparkSession.builder \\\n",
        "    .appName(\"Spark Streaming\") \\\n",
        "    .config(\"spark.driver.extraJavaOptions\", \"-Dcom.sun.net.ssl.checkRevocation=false\") \\\n",
        "    .config(\"spark.executor.extraJavaOptions\", \"-Dcom.sun.net.ssl.checkRevocation=false\") \\\n",
        "    .config(\"spark.jars.packages\", \"org.apache.spark:spark-sql-kafka-0-10_2.13:3.2.1\") \\\n",
        "    .config(\"spark.sql.streaming.forceDeleteTempCheckpointLocation\", \"true\") \\\n",
        "    .config(\"spark.executor.instances\", \"1\") \\\n",
        "    .config(\"spark.executor.memory\", \"512mb\") \\\n",
        "    .getOrCreate()"
      ],
      "metadata": {
        "id": "ORmVt-SIb7xS"
      },
      "execution_count": 1,
      "outputs": []
    },
    {
      "cell_type": "code",
      "source": [
        "spark"
      ],
      "metadata": {
        "colab": {
          "base_uri": "https://localhost:8080/",
          "height": 219
        },
        "id": "vYFg9JRocMlV",
        "outputId": "6cc2a5b9-79f2-43ea-ad13-b2eb3c3f474c"
      },
      "execution_count": 2,
      "outputs": [
        {
          "output_type": "execute_result",
          "data": {
            "text/plain": [
              "<pyspark.sql.session.SparkSession at 0x7f5cb02ff2d0>"
            ],
            "text/html": [
              "\n",
              "            <div>\n",
              "                <p><b>SparkSession - in-memory</b></p>\n",
              "                \n",
              "        <div>\n",
              "            <p><b>SparkContext</b></p>\n",
              "\n",
              "            <p><a href=\"http://4e317072b4cb:4040\">Spark UI</a></p>\n",
              "\n",
              "            <dl>\n",
              "              <dt>Version</dt>\n",
              "                <dd><code>v3.3.0</code></dd>\n",
              "              <dt>Master</dt>\n",
              "                <dd><code>local[*]</code></dd>\n",
              "              <dt>AppName</dt>\n",
              "                <dd><code>Spark Streaming</code></dd>\n",
              "            </dl>\n",
              "        </div>\n",
              "        \n",
              "            </div>\n",
              "        "
            ]
          },
          "metadata": {},
          "execution_count": 2
        }
      ]
    },
    {
      "cell_type": "code",
      "source": [
        "df = spark.range(10)\n",
        "sdf = spark \\\n",
        "    .readStream \\\n",
        "    .format(\"rate\") \\\n",
        "    .load() #.option(\"param\", \"value\")\\.option(\"param\", \"value\") \\.option(\"param\", \"value\") \\\n",
        "\n",
        "print(f'Is streaming: df - \\'{df.isStreaming}\\', sdf - \\'{sdf.isStreaming}\\'')"
      ],
      "metadata": {
        "colab": {
          "base_uri": "https://localhost:8080/"
        },
        "id": "p4MqhJApcY_l",
        "outputId": "ab5b68a7-e06c-4766-816b-627621e8b974"
      },
      "execution_count": 3,
      "outputs": [
        {
          "output_type": "stream",
          "name": "stdout",
          "text": [
            "Is streaming: df - 'False', sdf - 'True'\n"
          ]
        }
      ]
    },
    {
      "cell_type": "code",
      "source": [
        "sdf = spark \\\n",
        "    .readStream \\\n",
        "    .format(\"rate\") \\\n",
        "    .load()\n",
        "sdf"
      ],
      "metadata": {
        "colab": {
          "base_uri": "https://localhost:8080/"
        },
        "id": "lIskjEAkcc7z",
        "outputId": "5a76be42-5449-4a81-e3f1-df9ed35fbf34"
      },
      "execution_count": 4,
      "outputs": [
        {
          "output_type": "execute_result",
          "data": {
            "text/plain": [
              "DataFrame[timestamp: timestamp, value: bigint]"
            ]
          },
          "metadata": {},
          "execution_count": 4
        }
      ]
    },
    {
      "cell_type": "code",
      "source": [
        "sdf.printSchema()"
      ],
      "metadata": {
        "colab": {
          "base_uri": "https://localhost:8080/"
        },
        "id": "JwIHMPUGcfoO",
        "outputId": "b7eb03ec-4001-40bc-a967-a6d9de789c07"
      },
      "execution_count": 5,
      "outputs": [
        {
          "output_type": "stream",
          "name": "stdout",
          "text": [
            "root\n",
            " |-- timestamp: timestamp (nullable = true)\n",
            " |-- value: long (nullable = true)\n",
            "\n"
          ]
        }
      ]
    },
    {
      "cell_type": "code",
      "source": [
        "sdf.explain(True)"
      ],
      "metadata": {
        "colab": {
          "base_uri": "https://localhost:8080/"
        },
        "id": "ZglFfr58cgvt",
        "outputId": "b6105d23-cf63-4b1b-9041-a6f4bd2d9aa8"
      },
      "execution_count": 6,
      "outputs": [
        {
          "output_type": "stream",
          "name": "stdout",
          "text": [
            "== Parsed Logical Plan ==\n",
            "StreamingRelationV2 org.apache.spark.sql.execution.streaming.sources.RateStreamProvider@5d59488, rate, org.apache.spark.sql.execution.streaming.sources.RateStreamTable@298f34dd, [], [timestamp#6, value#7L]\n",
            "\n",
            "== Analyzed Logical Plan ==\n",
            "timestamp: timestamp, value: bigint\n",
            "StreamingRelationV2 org.apache.spark.sql.execution.streaming.sources.RateStreamProvider@5d59488, rate, org.apache.spark.sql.execution.streaming.sources.RateStreamTable@298f34dd, [], [timestamp#6, value#7L]\n",
            "\n",
            "== Optimized Logical Plan ==\n",
            "StreamingRelationV2 org.apache.spark.sql.execution.streaming.sources.RateStreamProvider@5d59488, rate, org.apache.spark.sql.execution.streaming.sources.RateStreamTable@298f34dd, [], [timestamp#6, value#7L]\n",
            "\n",
            "== Physical Plan ==\n",
            "StreamingRelation rate, [timestamp#6, value#7L]\n",
            "\n"
          ]
        }
      ]
    },
    {
      "cell_type": "code",
      "source": [
        "def create_console_sink(sdf):\n",
        "    return sdf \\\n",
        "            .writeStream \\\n",
        "            .format(\"console\") \\\n",
        "            .trigger(processingTime=\"10 seconds\") \\\n",
        "            .option(\"truncate\", \"false\") \\\n",
        "            .option(\"numRows\", \"10\")"
      ],
      "metadata": {
        "id": "8LOh377pci1j"
      },
      "execution_count": 7,
      "outputs": []
    },
    {
      "cell_type": "code",
      "source": [
        "sink = create_console_sink(sdf)\n",
        "sink"
      ],
      "metadata": {
        "colab": {
          "base_uri": "https://localhost:8080/"
        },
        "id": "pkTs9O-Pcosa",
        "outputId": "fe2fd7d9-1a60-4287-9567-25dfb486076a"
      },
      "execution_count": 8,
      "outputs": [
        {
          "output_type": "execute_result",
          "data": {
            "text/plain": [
              "<pyspark.sql.streaming.DataStreamWriter at 0x7f5cafad8110>"
            ]
          },
          "metadata": {},
          "execution_count": 8
        }
      ]
    },
    {
      "cell_type": "code",
      "source": [
        "sq = sink.start()\n",
        "sq.isActive"
      ],
      "metadata": {
        "colab": {
          "base_uri": "https://localhost:8080/"
        },
        "id": "B_U9GUsTcrAn",
        "outputId": "6590be83-0b6f-4e7c-8e34-571883efa542"
      },
      "execution_count": 10,
      "outputs": [
        {
          "output_type": "execute_result",
          "data": {
            "text/plain": [
              "True"
            ]
          },
          "metadata": {},
          "execution_count": 10
        }
      ]
    },
    {
      "cell_type": "code",
      "source": [
        "sq.stop()"
      ],
      "metadata": {
        "id": "6wgVmBzgdVxp"
      },
      "execution_count": 11,
      "outputs": []
    }
  ]
}